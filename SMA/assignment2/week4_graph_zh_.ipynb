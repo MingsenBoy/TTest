{
 "cells": [
  {
   "cell_type": "markdown",
   "metadata": {},
   "source": [
    "### 7. 社群網路圖"
   ]
  },
  {
   "cell_type": "markdown",
   "metadata": {},
   "source": [
    "#### 一、 套件說明\n",
    "\n",
    "- 1. pandas\n",
    "    - 整理網路的link\n",
    "- 2. pyvis\n",
    "    - 畫出互動式的網路圖"
   ]
  },
  {
   "cell_type": "code",
   "execution_count": 1,
   "metadata": {},
   "outputs": [],
   "source": [
    "import pandas as pd\n",
    "from pyvis.network import Network"
   ]
  },
  {
   "cell_type": "markdown",
   "metadata": {},
   "source": [
    "#### 二、 把資料進行整理，抽樣出一部份資料"
   ]
  },
  {
   "cell_type": "markdown",
   "metadata": {},
   "source": [
    "<h8> 只需要評論資料，把ptt_articleReviews_0331匯入dataframe"
   ]
  },
  {
   "cell_type": "code",
   "execution_count": 3,
   "metadata": {},
   "outputs": [],
   "source": [
    "comment = pd.read_csv('./raw_data/ptt_articleReviews_0331.csv')\n"
   ]
  },
  {
   "cell_type": "markdown",
   "metadata": {},
   "source": [
    "<h8> 只取出推跟噓的評論，且過濾評數大於20的文章"
   ]
  },
  {
   "cell_type": "code",
   "execution_count": null,
   "metadata": {},
   "outputs": [],
   "source": [
    "comment = ...\n"
   ]
  },
  {
   "cell_type": "markdown",
   "metadata": {},
   "source": [
    "<h8> 請以新聞為主，sample出10筆新聞，dataframe需幫包含網址、po文者，評論者、cmtStatus"
   ]
  },
  {
   "cell_type": "code",
   "execution_count": 8,
   "metadata": {},
   "outputs": [
    {
     "data": {
      "text/html": [
       "<div>\n",
       "<style scoped>\n",
       "    .dataframe tbody tr th:only-of-type {\n",
       "        vertical-align: middle;\n",
       "    }\n",
       "\n",
       "    .dataframe tbody tr th {\n",
       "        vertical-align: top;\n",
       "    }\n",
       "\n",
       "    .dataframe thead th {\n",
       "        text-align: right;\n",
       "    }\n",
       "</style>\n",
       "<table border=\"1\" class=\"dataframe\">\n",
       "  <thead>\n",
       "    <tr style=\"text-align: right;\">\n",
       "      <th></th>\n",
       "      <th>artUrl</th>\n",
       "      <th>artPoster</th>\n",
       "      <th>cmtPoster</th>\n",
       "      <th>cmtStatus</th>\n",
       "    </tr>\n",
       "  </thead>\n",
       "  <tbody>\n",
       "    <tr>\n",
       "      <th>0</th>\n",
       "      <td>https://www.ptt.cc/bbs/Gossiping/M.1615935548....</td>\n",
       "      <td>galilei503</td>\n",
       "      <td>RINPE</td>\n",
       "      <td>推</td>\n",
       "    </tr>\n",
       "    <tr>\n",
       "      <th>1</th>\n",
       "      <td>https://www.ptt.cc/bbs/Gossiping/M.1615935548....</td>\n",
       "      <td>galilei503</td>\n",
       "      <td>amethystboy</td>\n",
       "      <td>推</td>\n",
       "    </tr>\n",
       "    <tr>\n",
       "      <th>2</th>\n",
       "      <td>https://www.ptt.cc/bbs/Gossiping/M.1615935548....</td>\n",
       "      <td>galilei503</td>\n",
       "      <td>OhwadaAkira</td>\n",
       "      <td>噓</td>\n",
       "    </tr>\n",
       "    <tr>\n",
       "      <th>3</th>\n",
       "      <td>https://www.ptt.cc/bbs/Gossiping/M.1615935548....</td>\n",
       "      <td>galilei503</td>\n",
       "      <td>Whitening</td>\n",
       "      <td>推</td>\n",
       "    </tr>\n",
       "    <tr>\n",
       "      <th>4</th>\n",
       "      <td>https://www.ptt.cc/bbs/Gossiping/M.1615935548....</td>\n",
       "      <td>galilei503</td>\n",
       "      <td>grandzxcv</td>\n",
       "      <td>推</td>\n",
       "    </tr>\n",
       "  </tbody>\n",
       "</table>\n",
       "</div>"
      ],
      "text/plain": [
       "                                              artUrl   artPoster    cmtPoster  \\\n",
       "0  https://www.ptt.cc/bbs/Gossiping/M.1615935548....  galilei503        RINPE   \n",
       "1  https://www.ptt.cc/bbs/Gossiping/M.1615935548....  galilei503  amethystboy   \n",
       "2  https://www.ptt.cc/bbs/Gossiping/M.1615935548....  galilei503  OhwadaAkira   \n",
       "3  https://www.ptt.cc/bbs/Gossiping/M.1615935548....  galilei503    Whitening   \n",
       "4  https://www.ptt.cc/bbs/Gossiping/M.1615935548....  galilei503    grandzxcv   \n",
       "\n",
       "  cmtStatus  \n",
       "0         推  \n",
       "1         推  \n",
       "2         噓  \n",
       "3         推  \n",
       "4         推  "
      ]
     },
     "execution_count": 8,
     "metadata": {},
     "output_type": "execute_result"
    }
   ],
   "source": [
    "comment.head()"
   ]
  },
  {
   "cell_type": "markdown",
   "metadata": {},
   "source": [
    "#### 三、 標示節點"
   ]
  },
  {
   "cell_type": "markdown",
   "metadata": {},
   "source": [
    "<h8> 請將帳號（artPoster、cmtPoster）進行分類，需分成：只有發過文章、只有評論過文章、或是以上兩個都有。可以用字典的資料結構"
   ]
  },
  {
   "cell_type": "code",
   "execution_count": 9,
   "metadata": {},
   "outputs": [],
   "source": [
    "people_label={}\n",
    "...\n",
    "...\n",
    "    "
   ]
  },
  {
   "cell_type": "markdown",
   "metadata": {},
   "source": [
    "<h8> 計算（發文者，評論者，cmtStatus）的總次數"
   ]
  },
  {
   "cell_type": "code",
   "execution_count": 10,
   "metadata": {},
   "outputs": [],
   "source": [
    "comment_gp = ...\n",
    "\n",
    "\n"
   ]
  },
  {
   "cell_type": "code",
   "execution_count": 13,
   "metadata": {},
   "outputs": [
    {
     "data": {
      "text/html": [
       "<div>\n",
       "<style scoped>\n",
       "    .dataframe tbody tr th:only-of-type {\n",
       "        vertical-align: middle;\n",
       "    }\n",
       "\n",
       "    .dataframe tbody tr th {\n",
       "        vertical-align: top;\n",
       "    }\n",
       "\n",
       "    .dataframe thead th {\n",
       "        text-align: right;\n",
       "    }\n",
       "</style>\n",
       "<table border=\"1\" class=\"dataframe\">\n",
       "  <thead>\n",
       "    <tr style=\"text-align: right;\">\n",
       "      <th></th>\n",
       "      <th>artPoster</th>\n",
       "      <th>cmtPoster</th>\n",
       "      <th>cmtStatus</th>\n",
       "      <th>count</th>\n",
       "    </tr>\n",
       "  </thead>\n",
       "  <tbody>\n",
       "    <tr>\n",
       "      <th>0</th>\n",
       "      <td>Tosca</td>\n",
       "      <td>A80211ab</td>\n",
       "      <td>推</td>\n",
       "      <td>1</td>\n",
       "    </tr>\n",
       "    <tr>\n",
       "      <th>1</th>\n",
       "      <td>Tosca</td>\n",
       "      <td>Dolphtw</td>\n",
       "      <td>推</td>\n",
       "      <td>1</td>\n",
       "    </tr>\n",
       "    <tr>\n",
       "      <th>2</th>\n",
       "      <td>Tosca</td>\n",
       "      <td>Doub1eK</td>\n",
       "      <td>噓</td>\n",
       "      <td>1</td>\n",
       "    </tr>\n",
       "    <tr>\n",
       "      <th>3</th>\n",
       "      <td>Tosca</td>\n",
       "      <td>LenardLee</td>\n",
       "      <td>推</td>\n",
       "      <td>1</td>\n",
       "    </tr>\n",
       "    <tr>\n",
       "      <th>4</th>\n",
       "      <td>Tosca</td>\n",
       "      <td>SayNoToPanda</td>\n",
       "      <td>推</td>\n",
       "      <td>1</td>\n",
       "    </tr>\n",
       "    <tr>\n",
       "      <th>...</th>\n",
       "      <td>...</td>\n",
       "      <td>...</td>\n",
       "      <td>...</td>\n",
       "      <td>...</td>\n",
       "    </tr>\n",
       "    <tr>\n",
       "      <th>689</th>\n",
       "      <td>whalespirit</td>\n",
       "      <td>wetland</td>\n",
       "      <td>推</td>\n",
       "      <td>1</td>\n",
       "    </tr>\n",
       "    <tr>\n",
       "      <th>690</th>\n",
       "      <td>whalespirit</td>\n",
       "      <td>wsx88432</td>\n",
       "      <td>推</td>\n",
       "      <td>1</td>\n",
       "    </tr>\n",
       "    <tr>\n",
       "      <th>691</th>\n",
       "      <td>whalespirit</td>\n",
       "      <td>yeh0416</td>\n",
       "      <td>推</td>\n",
       "      <td>1</td>\n",
       "    </tr>\n",
       "    <tr>\n",
       "      <th>692</th>\n",
       "      <td>whalespirit</td>\n",
       "      <td>yuhancheng19</td>\n",
       "      <td>推</td>\n",
       "      <td>1</td>\n",
       "    </tr>\n",
       "    <tr>\n",
       "      <th>693</th>\n",
       "      <td>whalespirit</td>\n",
       "      <td>zu00405479</td>\n",
       "      <td>推</td>\n",
       "      <td>1</td>\n",
       "    </tr>\n",
       "  </tbody>\n",
       "</table>\n",
       "<p>694 rows × 4 columns</p>\n",
       "</div>"
      ],
      "text/plain": [
       "       artPoster     cmtPoster cmtStatus  count\n",
       "0          Tosca      A80211ab         推      1\n",
       "1          Tosca       Dolphtw         推      1\n",
       "2          Tosca       Doub1eK         噓      1\n",
       "3          Tosca     LenardLee         推      1\n",
       "4          Tosca  SayNoToPanda         推      1\n",
       "..           ...           ...       ...    ...\n",
       "689  whalespirit       wetland         推      1\n",
       "690  whalespirit      wsx88432         推      1\n",
       "691  whalespirit       yeh0416         推      1\n",
       "692  whalespirit  yuhancheng19         推      1\n",
       "693  whalespirit    zu00405479         推      1\n",
       "\n",
       "[694 rows x 4 columns]"
      ]
     },
     "execution_count": 13,
     "metadata": {},
     "output_type": "execute_result"
    }
   ],
   "source": [
    "comment_gp"
   ]
  },
  {
   "cell_type": "markdown",
   "metadata": {},
   "source": [
    "#### 四、 畫出動態圖"
   ]
  },
  {
   "cell_type": "markdown",
   "metadata": {},
   "source": [
    "<h8> 節點為人（有三種，需以顏色標示為角色），邊為評論者對發文者的噓/推（需以顏色標示噓/推，也請多加次數的資訊）。\n",
    "<br> 評論者對上發文者可能會有推或是噓，也就是評論者對上發文者可能有兩條邊。"
   ]
  },
  {
   "cell_type": "code",
   "execution_count": 14,
   "metadata": {},
   "outputs": [],
   "source": [
    "\n",
    "g = Network(...)\n",
    "\n",
    "\n",
    "    \n"
   ]
  },
  {
   "cell_type": "code",
   "execution_count": 15,
   "metadata": {},
   "outputs": [],
   "source": [
    "g.show_buttons(filter_=['nodes', 'edges', 'physics'])\n",
    "g.show('ptt_graph.html')"
   ]
  }
 ],
 "metadata": {
  "interpreter": {
   "hash": "a13c8a06ae4be0b6af6abe101332f7e1063ec3bc0da5e51850d629519cb86624"
  },
  "kernelspec": {
   "display_name": "Python 3.10.5 ('sma')",
   "language": "python",
   "name": "python3"
  },
  "language_info": {
   "codemirror_mode": {
    "name": "ipython",
    "version": 3
   },
   "file_extension": ".py",
   "mimetype": "text/x-python",
   "name": "python",
   "nbconvert_exporter": "python",
   "pygments_lexer": "ipython3",
   "version": "3.10.5"
  },
  "orig_nbformat": 4
 },
 "nbformat": 4,
 "nbformat_minor": 2
}
